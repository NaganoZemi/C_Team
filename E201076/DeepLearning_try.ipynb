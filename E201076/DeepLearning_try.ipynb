{
  "nbformat": 4,
  "nbformat_minor": 0,
  "metadata": {
    "colab": {
      "provenance": [],
      "collapsed_sections": [
        "I9TxckxJvj2G",
        "10GF9xnfAzJR",
        "9C3RmE83kiQr",
        "O-CGqTDKSDp5",
        "uuwo_d8oSbnA",
        "dXlahBsQAugU",
        "-q3PXhuBR39_"
      ]
    },
    "kernelspec": {
      "name": "python3",
      "display_name": "Python 3"
    },
    "language_info": {
      "name": "python"
    },
    "gpuClass": "standard",
    "accelerator": "GPU"
  },
  "cells": [
    {
      "cell_type": "markdown",
      "source": [
        "# メモ"
      ],
      "metadata": {
        "id": "I9TxckxJvj2G"
      }
    },
    {
      "cell_type": "markdown",
      "source": [
        "\n",
        "* LSTM*3 +\n",
        "* epoch=200,+,1.037\n",
        "* dropout=0.1 - \n",
        "* H=500 - \n",
        "* self.batch_norm = nn.BatchNorm1d(H) - \n",
        "* lr=0.01 -\n",
        "* lr=0.1 -\n",
        "* LSTM*5 -\n",
        "* LSTM*4  +, 1.019\n",
        "* self.dropout = nn.Dropout(p=0.2) を追加, \n",
        "\n"
      ],
      "metadata": {
        "id": "xz07lfluBzfv"
      }
    },
    {
      "cell_type": "markdown",
      "source": [
        "# 準備"
      ],
      "metadata": {
        "id": "10GF9xnfAzJR"
      }
    },
    {
      "cell_type": "code",
      "execution_count": null,
      "metadata": {
        "colab": {
          "base_uri": "https://localhost:8080/"
        },
        "id": "Nk4J8LFw8hYh",
        "outputId": "a3b18500-09f1-464c-e3c1-64f298c352f7"
      },
      "outputs": [
        {
          "output_type": "stream",
          "name": "stdout",
          "text": [
            "Looking in indexes: https://pypi.org/simple, https://us-python.pkg.dev/colab-wheels/public/simple/\n",
            "\u001b[31mERROR: Could not find a version that satisfies the requirement torch==1.6.0+cu101 (from versions: 1.4.0, 1.5.0, 1.5.1, 1.6.0, 1.7.0, 1.7.1, 1.8.0, 1.8.1, 1.9.0, 1.9.1, 1.10.0, 1.10.1, 1.10.2, 1.11.0, 1.12.0, 1.12.1, 1.13.0, 1.13.1)\u001b[0m\u001b[31m\n",
            "\u001b[0m\u001b[31mERROR: No matching distribution found for torch==1.6.0+cu101\u001b[0m\u001b[31m\n",
            "\u001b[0mLooking in indexes: https://pypi.org/simple, https://us-python.pkg.dev/colab-wheels/public/simple/\n",
            "\u001b[31mERROR: Could not find a version that satisfies the requirement torchvision==0.7.0+cu101 (from versions: 0.1.6, 0.1.7, 0.1.8, 0.1.9, 0.2.0, 0.2.1, 0.2.2, 0.2.2.post2, 0.2.2.post3, 0.5.0, 0.6.0, 0.6.1, 0.7.0, 0.8.0, 0.8.1, 0.8.2, 0.9.0, 0.9.1, 0.10.0, 0.10.1, 0.11.0, 0.11.1, 0.11.2, 0.11.3, 0.12.0, 0.13.0, 0.13.1, 0.14.0, 0.14.1)\u001b[0m\u001b[31m\n",
            "\u001b[0m\u001b[31mERROR: No matching distribution found for torchvision==0.7.0+cu101\u001b[0m\u001b[31m\n",
            "\u001b[0mLooking in indexes: https://pypi.org/simple, https://us-python.pkg.dev/colab-wheels/public/simple/\n",
            "Requirement already satisfied: numpy==1.18.5 in /usr/local/lib/python3.8/dist-packages (1.18.5)\n",
            "Looking in indexes: https://pypi.org/simple, https://us-python.pkg.dev/colab-wheels/public/simple/\n",
            "Requirement already satisfied: matplotlib==3.2.2 in /usr/local/lib/python3.8/dist-packages (3.2.2)\n",
            "Requirement already satisfied: numpy>=1.11 in /usr/local/lib/python3.8/dist-packages (from matplotlib==3.2.2) (1.18.5)\n",
            "Requirement already satisfied: cycler>=0.10 in /usr/local/lib/python3.8/dist-packages (from matplotlib==3.2.2) (0.11.0)\n",
            "Requirement already satisfied: python-dateutil>=2.1 in /usr/local/lib/python3.8/dist-packages (from matplotlib==3.2.2) (2.8.2)\n",
            "Requirement already satisfied: kiwisolver>=1.0.1 in /usr/local/lib/python3.8/dist-packages (from matplotlib==3.2.2) (1.4.4)\n",
            "Requirement already satisfied: pyparsing!=2.0.4,!=2.1.2,!=2.1.6,>=2.0.1 in /usr/local/lib/python3.8/dist-packages (from matplotlib==3.2.2) (3.0.9)\n",
            "Requirement already satisfied: six>=1.5 in /usr/local/lib/python3.8/dist-packages (from python-dateutil>=2.1->matplotlib==3.2.2) (1.15.0)\n",
            "Looking in indexes: https://pypi.org/simple, https://us-python.pkg.dev/colab-wheels/public/simple/\n",
            "Requirement already satisfied: scikit-learn==0.23.1 in /usr/local/lib/python3.8/dist-packages (0.23.1)\n",
            "Requirement already satisfied: threadpoolctl>=2.0.0 in /usr/local/lib/python3.8/dist-packages (from scikit-learn==0.23.1) (3.1.0)\n",
            "Requirement already satisfied: scipy>=0.19.1 in /usr/local/lib/python3.8/dist-packages (from scikit-learn==0.23.1) (1.7.3)\n",
            "Requirement already satisfied: numpy>=1.13.3 in /usr/local/lib/python3.8/dist-packages (from scikit-learn==0.23.1) (1.18.5)\n",
            "Requirement already satisfied: joblib>=0.11 in /usr/local/lib/python3.8/dist-packages (from scikit-learn==0.23.1) (1.2.0)\n",
            "Looking in indexes: https://pypi.org/simple, https://us-python.pkg.dev/colab-wheels/public/simple/\n",
            "Requirement already satisfied: seaborn==0.11.0 in /usr/local/lib/python3.8/dist-packages (0.11.0)\n",
            "Requirement already satisfied: scipy>=1.0 in /usr/local/lib/python3.8/dist-packages (from seaborn==0.11.0) (1.7.3)\n",
            "Requirement already satisfied: pandas>=0.23 in /usr/local/lib/python3.8/dist-packages (from seaborn==0.11.0) (1.3.5)\n",
            "Requirement already satisfied: numpy>=1.15 in /usr/local/lib/python3.8/dist-packages (from seaborn==0.11.0) (1.18.5)\n",
            "Requirement already satisfied: matplotlib>=2.2 in /usr/local/lib/python3.8/dist-packages (from seaborn==0.11.0) (3.2.2)\n",
            "Requirement already satisfied: cycler>=0.10 in /usr/local/lib/python3.8/dist-packages (from matplotlib>=2.2->seaborn==0.11.0) (0.11.0)\n",
            "Requirement already satisfied: python-dateutil>=2.1 in /usr/local/lib/python3.8/dist-packages (from matplotlib>=2.2->seaborn==0.11.0) (2.8.2)\n",
            "Requirement already satisfied: pyparsing!=2.0.4,!=2.1.2,!=2.1.6,>=2.0.1 in /usr/local/lib/python3.8/dist-packages (from matplotlib>=2.2->seaborn==0.11.0) (3.0.9)\n",
            "Requirement already satisfied: kiwisolver>=1.0.1 in /usr/local/lib/python3.8/dist-packages (from matplotlib>=2.2->seaborn==0.11.0) (1.4.4)\n",
            "Requirement already satisfied: pytz>=2017.3 in /usr/local/lib/python3.8/dist-packages (from pandas>=0.23->seaborn==0.11.0) (2022.7.1)\n",
            "Requirement already satisfied: six>=1.5 in /usr/local/lib/python3.8/dist-packages (from python-dateutil>=2.1->matplotlib>=2.2->seaborn==0.11.0) (1.15.0)\n"
          ]
        }
      ],
      "source": [
        "# 必要なパッケージのインストール\n",
        "!pip3 install torch==1.6.0+cu101\n",
        "!pip3 install torchvision==0.7.0+cu101\n",
        "!pip3 install numpy==1.18.5\n",
        "!pip3 install matplotlib==3.2.2\n",
        "!pip3 install scikit-learn==0.23.1\n",
        "!pip3 install seaborn==0.11.0"
      ]
    },
    {
      "cell_type": "code",
      "source": [
        "# モジュールのインポート\n",
        "import numpy as np\n",
        "import pandas as pd\n",
        "import pandas_datareader.data as data\n",
        "from matplotlib import pyplot as plt\n",
        "%matplotlib inline\n",
        "\n",
        "# 標準化関数（StandardScaler）をインポート\n",
        "from sklearn.preprocessing import StandardScaler\n",
        "from sklearn.metrics import mean_absolute_error\n",
        "\n",
        "import torch\n",
        "from torch.utils.data import TensorDataset, DataLoader\n",
        "from torch import nn\n",
        "import torch.nn.functional as F\n",
        "from torch import optim\n",
        "\n",
        "import pandas.tseries.offsets as offsets"
      ],
      "metadata": {
        "id": "FCH5ckxT9L6s"
      },
      "execution_count": null,
      "outputs": []
    },
    {
      "cell_type": "markdown",
      "source": [
        "# 設定1"
      ],
      "metadata": {
        "id": "9C3RmE83kiQr"
      }
    },
    {
      "cell_type": "code",
      "source": [
        "n=100"
      ],
      "metadata": {
        "id": "0kIDXKJWkgw8"
      },
      "execution_count": null,
      "outputs": []
    },
    {
      "cell_type": "markdown",
      "source": [
        "# データの準備・前処理"
      ],
      "metadata": {
        "id": "O-CGqTDKSDp5"
      }
    },
    {
      "cell_type": "code",
      "source": [
        "start = '2005-01-01'\n",
        "end = '2023-01-01'\n",
        "\n",
        "df = data.DataReader('^NKX', 'stooq', start, end)\n",
        "df=df.reset_index()"
      ],
      "metadata": {
        "id": "bRiD6i1l_ACj"
      },
      "execution_count": null,
      "outputs": []
    },
    {
      "cell_type": "code",
      "source": [
        "# 始値(open)、安値(low)、高値(high)、出来高(volume)を消して、終値(close)のみを残す\n",
        "df = df.drop(['Open', 'Low', 'High', 'Volume'], axis=1)\n",
        "df.sort_values(by='Date', ascending=True, inplace=True)\n",
        "df.head()"
      ],
      "metadata": {
        "colab": {
          "base_uri": "https://localhost:8080/"
        },
        "id": "6HDtrPXR_O1s",
        "outputId": "019f65af-6084-4230-cf9b-6a4e876b3bc7"
      },
      "execution_count": null,
      "outputs": [
        {
          "output_type": "execute_result",
          "data": {
            "text/plain": [
              "           Date     Close\n",
              "4406 2005-01-04  11517.75\n",
              "4405 2005-01-05  11437.52\n",
              "4404 2005-01-06  11492.26\n",
              "4403 2005-01-07  11433.24\n",
              "4402 2005-01-11  11539.99"
            ],
            "text/html": [
              "\n",
              "  <div id=\"df-7ecf02c7-f8bd-4f15-ad14-01d5814c7cae\">\n",
              "    <div class=\"colab-df-container\">\n",
              "      <div>\n",
              "<style scoped>\n",
              "    .dataframe tbody tr th:only-of-type {\n",
              "        vertical-align: middle;\n",
              "    }\n",
              "\n",
              "    .dataframe tbody tr th {\n",
              "        vertical-align: top;\n",
              "    }\n",
              "\n",
              "    .dataframe thead th {\n",
              "        text-align: right;\n",
              "    }\n",
              "</style>\n",
              "<table border=\"1\" class=\"dataframe\">\n",
              "  <thead>\n",
              "    <tr style=\"text-align: right;\">\n",
              "      <th></th>\n",
              "      <th>Date</th>\n",
              "      <th>Close</th>\n",
              "    </tr>\n",
              "  </thead>\n",
              "  <tbody>\n",
              "    <tr>\n",
              "      <th>4406</th>\n",
              "      <td>2005-01-04</td>\n",
              "      <td>11517.75</td>\n",
              "    </tr>\n",
              "    <tr>\n",
              "      <th>4405</th>\n",
              "      <td>2005-01-05</td>\n",
              "      <td>11437.52</td>\n",
              "    </tr>\n",
              "    <tr>\n",
              "      <th>4404</th>\n",
              "      <td>2005-01-06</td>\n",
              "      <td>11492.26</td>\n",
              "    </tr>\n",
              "    <tr>\n",
              "      <th>4403</th>\n",
              "      <td>2005-01-07</td>\n",
              "      <td>11433.24</td>\n",
              "    </tr>\n",
              "    <tr>\n",
              "      <th>4402</th>\n",
              "      <td>2005-01-11</td>\n",
              "      <td>11539.99</td>\n",
              "    </tr>\n",
              "  </tbody>\n",
              "</table>\n",
              "</div>\n",
              "      <button class=\"colab-df-convert\" onclick=\"convertToInteractive('df-7ecf02c7-f8bd-4f15-ad14-01d5814c7cae')\"\n",
              "              title=\"Convert this dataframe to an interactive table.\"\n",
              "              style=\"display:none;\">\n",
              "        \n",
              "  <svg xmlns=\"http://www.w3.org/2000/svg\" height=\"24px\"viewBox=\"0 0 24 24\"\n",
              "       width=\"24px\">\n",
              "    <path d=\"M0 0h24v24H0V0z\" fill=\"none\"/>\n",
              "    <path d=\"M18.56 5.44l.94 2.06.94-2.06 2.06-.94-2.06-.94-.94-2.06-.94 2.06-2.06.94zm-11 1L8.5 8.5l.94-2.06 2.06-.94-2.06-.94L8.5 2.5l-.94 2.06-2.06.94zm10 10l.94 2.06.94-2.06 2.06-.94-2.06-.94-.94-2.06-.94 2.06-2.06.94z\"/><path d=\"M17.41 7.96l-1.37-1.37c-.4-.4-.92-.59-1.43-.59-.52 0-1.04.2-1.43.59L10.3 9.45l-7.72 7.72c-.78.78-.78 2.05 0 2.83L4 21.41c.39.39.9.59 1.41.59.51 0 1.02-.2 1.41-.59l7.78-7.78 2.81-2.81c.8-.78.8-2.07 0-2.86zM5.41 20L4 18.59l7.72-7.72 1.47 1.35L5.41 20z\"/>\n",
              "  </svg>\n",
              "      </button>\n",
              "      \n",
              "  <style>\n",
              "    .colab-df-container {\n",
              "      display:flex;\n",
              "      flex-wrap:wrap;\n",
              "      gap: 12px;\n",
              "    }\n",
              "\n",
              "    .colab-df-convert {\n",
              "      background-color: #E8F0FE;\n",
              "      border: none;\n",
              "      border-radius: 50%;\n",
              "      cursor: pointer;\n",
              "      display: none;\n",
              "      fill: #1967D2;\n",
              "      height: 32px;\n",
              "      padding: 0 0 0 0;\n",
              "      width: 32px;\n",
              "    }\n",
              "\n",
              "    .colab-df-convert:hover {\n",
              "      background-color: #E2EBFA;\n",
              "      box-shadow: 0px 1px 2px rgba(60, 64, 67, 0.3), 0px 1px 3px 1px rgba(60, 64, 67, 0.15);\n",
              "      fill: #174EA6;\n",
              "    }\n",
              "\n",
              "    [theme=dark] .colab-df-convert {\n",
              "      background-color: #3B4455;\n",
              "      fill: #D2E3FC;\n",
              "    }\n",
              "\n",
              "    [theme=dark] .colab-df-convert:hover {\n",
              "      background-color: #434B5C;\n",
              "      box-shadow: 0px 1px 3px 1px rgba(0, 0, 0, 0.15);\n",
              "      filter: drop-shadow(0px 1px 2px rgba(0, 0, 0, 0.3));\n",
              "      fill: #FFFFFF;\n",
              "    }\n",
              "  </style>\n",
              "\n",
              "      <script>\n",
              "        const buttonEl =\n",
              "          document.querySelector('#df-7ecf02c7-f8bd-4f15-ad14-01d5814c7cae button.colab-df-convert');\n",
              "        buttonEl.style.display =\n",
              "          google.colab.kernel.accessAllowed ? 'block' : 'none';\n",
              "\n",
              "        async function convertToInteractive(key) {\n",
              "          const element = document.querySelector('#df-7ecf02c7-f8bd-4f15-ad14-01d5814c7cae');\n",
              "          const dataTable =\n",
              "            await google.colab.kernel.invokeFunction('convertToInteractive',\n",
              "                                                     [key], {});\n",
              "          if (!dataTable) return;\n",
              "\n",
              "          const docLinkHtml = 'Like what you see? Visit the ' +\n",
              "            '<a target=\"_blank\" href=https://colab.research.google.com/notebooks/data_table.ipynb>data table notebook</a>'\n",
              "            + ' to learn more about interactive tables.';\n",
              "          element.innerHTML = '';\n",
              "          dataTable['output_type'] = 'display_data';\n",
              "          await google.colab.output.renderOutput(dataTable, element);\n",
              "          const docLink = document.createElement('div');\n",
              "          docLink.innerHTML = docLinkHtml;\n",
              "          element.appendChild(docLink);\n",
              "        }\n",
              "      </script>\n",
              "    </div>\n",
              "  </div>\n",
              "  "
            ]
          },
          "metadata": {},
          "execution_count": 501
        }
      ]
    },
    {
      "cell_type": "code",
      "source": [
        "# 株価を図示\n",
        "\n",
        "fig=plt.figure(figsize=(12,4))\n",
        "plt.title('Price')\n",
        "plt.xlabel('Date')\n",
        "plt.ylabel('Stock Price')\n",
        "\n",
        "plt.plot(df['Date'], df['Close'], color='black', label='Price')\n",
        "\n",
        "plt.grid(True)\n",
        "plt.legend(loc = 'upper left')  # 凡例\n",
        "plt.show()"
      ],
      "metadata": {
        "colab": {
          "base_uri": "https://localhost:8080/"
        },
        "id": "iroUMtHm_OwX",
        "outputId": "7437a630-f515-4102-d2af-afafe3d77c0f"
      },
      "execution_count": null,
      "outputs": [
        {
          "output_type": "display_data",
          "data": {
            "text/plain": [
              "<Figure size 864x288 with 1 Axes>"
            ],
            "image/png": "[encoded data removed]"
          },
          "metadata": {
            "needs_background": "light"
          }
        }
      ]
    },
    {
      "cell_type": "code",
      "source": [
        "# 標準化\n",
        "ma = df['Close'].values.reshape(-1, 1)\n",
        "scaler = StandardScaler()\n",
        "ma_std = scaler.fit_transform(ma)\n",
        "print(\"ma: {}\".format(ma))\n",
        "print(\"ma_std: {}\".format(ma_std))"
      ],
      "metadata": {
        "colab": {
          "base_uri": "https://localhost:8080/"
        },
        "id": "Uq7pcIqE_OsW",
        "outputId": "05c31fca-b2cb-4bba-ba79-8d3de26e5728"
      },
      "execution_count": null,
      "outputs": [
        {
          "output_type": "stream",
          "name": "stdout",
          "text": [
            "ma: [[11517.75]\n",
            " [11437.52]\n",
            " [11492.26]\n",
            " ...\n",
            " [26340.5 ]\n",
            " [26093.67]\n",
            " [26094.5 ]]\n",
            "ma_std: [[-0.88699625]\n",
            " [-0.90030737]\n",
            " [-0.89122535]\n",
            " ...\n",
            " [ 1.57227622]\n",
            " [ 1.53132416]\n",
            " [ 1.53146186]]\n"
          ]
        }
      ]
    },
    {
      "cell_type": "code",
      "source": [
        "data = []  # 入力データ(過去n日分の株価)\n",
        "label = []  # 出力データ(1日後の株価)\n",
        "for i in range(len(ma_std) - n):\n",
        "    data.append(ma_std[i:i + n])\n",
        "    label.append(ma_std[i + n])\n",
        "# ndarrayに変換\n",
        "data = np.array(data)\n",
        "label = np.array(label)\n",
        "print(\"data size: {}\".format(data.shape))\n",
        "print(\"label size: {}\".format(label.shape))"
      ],
      "metadata": {
        "colab": {
          "base_uri": "https://localhost:8080/"
        },
        "id": "lJdNF5VR_OBG",
        "outputId": "e11a7d90-f2a5-4b17-93e5-7b176d76d399"
      },
      "execution_count": null,
      "outputs": [
        {
          "output_type": "stream",
          "name": "stdout",
          "text": [
            "data size: (4307, 100, 1)\n",
            "label size: (4307, 1)\n"
          ]
        }
      ]
    },
    {
      "cell_type": "code",
      "source": [
        "# 訓練データとテストデータのサイズを決定\n",
        "test_len = int(255)  # 1年分\n",
        "train_len = int(data.shape[0] - test_len)\n",
        "# 訓練データの準備\n",
        "train_data = data[:train_len]\n",
        "train_label = label[:train_len]\n",
        "# テストデータの準備\n",
        "test_data = data[train_len:]\n",
        "test_label = label[train_len:]\n",
        "# データの形状を確認\n",
        "print(\"train_data size: {}\".format(train_data.shape))\n",
        "print(\"test_data size: {}\".format(test_data.shape))\n",
        "print(\"train_label size: {}\".format(train_label.shape))\n",
        "print(\"test_label size: {}\".format(test_label.shape))"
      ],
      "metadata": {
        "colab": {
          "base_uri": "https://localhost:8080/"
        },
        "id": "X1JMUwkaKSF5",
        "outputId": "504f6b24-3c3d-46df-9fc9-00d997d2bfa7"
      },
      "execution_count": null,
      "outputs": [
        {
          "output_type": "stream",
          "name": "stdout",
          "text": [
            "train_data size: (4052, 100, 1)\n",
            "test_data size: (255, 100, 1)\n",
            "train_label size: (4052, 1)\n",
            "test_label size: (255, 1)\n"
          ]
        }
      ]
    },
    {
      "cell_type": "code",
      "source": [
        "# ndarrayをPyTorchのTensorに変換\n",
        "train_x = torch.Tensor(train_data)\n",
        "test_x = torch.Tensor(test_data)\n",
        "train_y = torch.Tensor(train_label)\n",
        "test_y = torch.Tensor(test_label)"
      ],
      "metadata": {
        "id": "-1hFMLPZKVQl"
      },
      "execution_count": null,
      "outputs": []
    },
    {
      "cell_type": "code",
      "source": [
        "# 特徴量とラベルを結合したデータセットを作成\n",
        "train_dataset = TensorDataset(train_x, train_y)\n",
        "test_dataset = TensorDataset(test_x, test_y)"
      ],
      "metadata": {
        "id": "PpUIhqfVKXAx"
      },
      "execution_count": null,
      "outputs": []
    },
    {
      "cell_type": "code",
      "source": [
        "# ミニバッチサイズを指定したデータローダーを作成\n",
        "train_batch = DataLoader(\n",
        "    dataset=train_dataset,  # データセットの指定\n",
        "    batch_size=128,  # バッチサイズの指定\n",
        "    shuffle=True,  # シャッフルするかどうかの指定\n",
        "    num_workers=2)  # コアの数\n",
        "test_batch = DataLoader(\n",
        "    dataset=test_dataset,\n",
        "    batch_size=128,\n",
        "    shuffle=False,\n",
        "    num_workers=2)\n",
        "# ミニバッチデータセットの確認\n",
        "for data, label in train_batch:\n",
        "    print(\"batch data size: {}\".format(data.size()))  # バッチの入力データサイズ\n",
        "    print(\"batch label size: {}\".format(label.size()))  # バッチのラベルサイズ\n",
        "    break"
      ],
      "metadata": {
        "colab": {
          "base_uri": "https://localhost:8080/"
        },
        "id": "YMFQlPKJKYZP",
        "outputId": "b170f50d-ff4e-467c-88ae-50ad0522a167"
      },
      "execution_count": null,
      "outputs": [
        {
          "output_type": "stream",
          "name": "stdout",
          "text": [
            "batch data size: torch.Size([128, 100, 1])\n",
            "batch label size: torch.Size([128, 1])\n"
          ]
        }
      ]
    },
    {
      "cell_type": "markdown",
      "source": [
        "# 簡易学習設定\n"
      ],
      "metadata": {
        "id": "uuwo_d8oSbnA"
      }
    },
    {
      "cell_type": "code",
      "source": [
        "H = 200  # 隠れ層次元\n",
        "epoch = 100  # 学習回数\n",
        "layer=3 # LSTMのレイヤー数"
      ],
      "metadata": {
        "id": "yPBZraVISbNm"
      },
      "execution_count": null,
      "outputs": []
    },
    {
      "cell_type": "markdown",
      "source": [
        "# 学習"
      ],
      "metadata": {
        "id": "dXlahBsQAugU"
      }
    },
    {
      "cell_type": "code",
      "source": [
        "# ニューラルネットワークの定義\n",
        "class Net(nn.Module):\n",
        "    def __init__(self, D_in, H, D_out,layer):\n",
        "        super(Net, self).__init__()\n",
        "        self.lstm = nn.LSTM(D_in, H, batch_first=True,\n",
        "                            num_layers=layer)\n",
        "        self.linear = nn.Linear(H, D_out)\n",
        "        self.batch_norm = nn.BatchNorm1d(H)\n",
        "        self.dropout = nn.Dropout(p=0.2)\n",
        "\n",
        "    def forward(self, x):\n",
        "        output, (hidden, cell) = self.lstm(x)\n",
        "        output=output[:, -1, :].squeeze()\n",
        "        # output = self.batch_norm(output)\n",
        "        # output = self.linear(output)\n",
        "        # output=self.dropout(output[:, -1, :].squeeze())\n",
        "        output = self.linear(output)  # 最後のステップのみを入力\n",
        "        return output"
      ],
      "metadata": {
        "id": "u7GU8mHdKa28"
      },
      "execution_count": null,
      "outputs": []
    },
    {
      "cell_type": "code",
      "source": [
        "D_in = 1  # 入力次元\n",
        "D_out = 1  # 出力次元"
      ],
      "metadata": {
        "id": "aPTGctRH1ca3"
      },
      "execution_count": null,
      "outputs": []
    },
    {
      "cell_type": "code",
      "source": [
        "# ネットワークのロード\n",
        "# CPUとGPUどちらを使うかを指定\n",
        "device = torch.device('cuda' if torch.cuda.is_available() else 'cpu')\n",
        "net = Net(D_in, H, D_out,layer).to(device)\n",
        "# デバイスの確認\n",
        "print(\"Device: {}\".format(device))"
      ],
      "metadata": {
        "colab": {
          "base_uri": "https://localhost:8080/"
        },
        "id": "s-w0mwdqKemD",
        "outputId": "fb4367a1-a252-48c9-ef8f-cb67f9599900"
      },
      "execution_count": null,
      "outputs": [
        {
          "output_type": "stream",
          "name": "stdout",
          "text": [
            "Device: cuda\n"
          ]
        }
      ]
    },
    {
      "cell_type": "code",
      "source": [
        "# 損失関数の定義\n",
        "criterion = nn.MSELoss()  # 損失関数（平均二乗誤差: MSE）\n",
        "\n",
        "# 最適化関数の定義\n",
        "optimizer = optim.Adam(net.parameters())"
      ],
      "metadata": {
        "id": "8FekG4GyKfkk"
      },
      "execution_count": null,
      "outputs": []
    },
    {
      "cell_type": "code",
      "source": [
        "# 損失を保存するリストを作成\n",
        "train_loss_list = []  # 学習損失\n",
        "test_loss_list = []  # 評価損失\n",
        "\n",
        "# 学習（エポック）の実行\n",
        "for i in range(epoch):\n",
        "    # エポックの進行状況を表示\n",
        "    print('---------------------------------------------')\n",
        "    print(\"Epoch: {}/{}\".format(i+1, epoch))\n",
        "\n",
        "    # 損失の初期化\n",
        "    train_loss = 0  # 学習損失\n",
        "    test_loss = 0  # 評価損失\n",
        "\n",
        "    # ---------学習パート--------- #\n",
        "    # ニューラルネットワークを学習モードに設定\n",
        "    net.train()\n",
        "    # ミニバッチごとにデータをロードし学習\n",
        "    for data, label in train_batch:\n",
        "        # GPUにTensorを転送\n",
        "        data = data.to(device)\n",
        "        label = label.to(device)\n",
        "        \n",
        "        # 勾配を初期化\n",
        "        optimizer.zero_grad()\n",
        "        # データを入力して予測値を計算（順伝播）\n",
        "        y_pred = net(data)\n",
        "        # 損失（誤差）を計算\n",
        "        loss = criterion(y_pred, label)\n",
        "        # 勾配の計算（逆伝搬）\n",
        "        loss.backward()\n",
        "        # パラメータ（重み）の更新\n",
        "        optimizer.step()\n",
        "        # ミニバッチごとの損失を蓄積\n",
        "        train_loss += loss.item()\n",
        "\n",
        "    # ミニバッチの平均の損失を計算\n",
        "    batch_train_loss = train_loss / len(train_batch)\n",
        "    # ---------学習パートはここまで--------- #\n",
        "\n",
        "    # ---------評価パート--------- #\n",
        "    # ニューラルネットワークを評価モードに設定\n",
        "    net.eval()\n",
        "    # 評価時の計算で自動微分機能をオフにする\n",
        "    with torch.no_grad():\n",
        "        for data, label in test_batch:\n",
        "            # GPUにTensorを転送\n",
        "            data = data.to(device)\n",
        "            label = label.to(device)\n",
        "            print(data.shape)\n",
        "            # データを入力して予測値を計算（順伝播）\n",
        "            y_pred = net(data)\n",
        "            # 損失（誤差）を計算\n",
        "            loss = criterion(y_pred, label)\n",
        "            # ミニバッチごとの損失を蓄積\n",
        "            test_loss += loss.item()\n",
        "\n",
        "    # ミニバッチの平均の損失を計算\n",
        "    batch_test_loss = test_loss / len(test_batch)\n",
        "    # ---------評価パートはここまで--------- #\n",
        "\n",
        "    # エポックごとに損失を表示\n",
        "    print(\"Train_Loss: {:.2E} Test_Loss: {:.2E}\".format(\n",
        "        batch_train_loss, batch_test_loss))\n",
        "    # 損失をリスト化して保存\n",
        "    train_loss_list.append(batch_train_loss)\n",
        "    test_loss_list.append(batch_test_loss)\n",
        "\n",
        "  \n",
        "\n",
        "\n",
        "\n",
        "\n",
        "\n",
        "\n"
      ],
      "metadata": {
        "colab": {
          "base_uri": "https://localhost:8080/"
        },
        "id": "AFYp95axKhYu",
        "outputId": "2bfc5d03-daeb-427b-d55e-0b71a0cec592"
      },
      "execution_count": null,
      "outputs": [
        {
          "output_type": "stream",
          "name": "stdout",
          "text": [
            "---------------------------------------------\n",
            "Epoch: 1/100\n",
            "torch.Size([128, 100, 1])\n",
            "torch.Size([127, 100, 1])\n",
            "Train_Loss: 1.97E-01 Test_Loss: 2.52E-02\n",
            "---------------------------------------------\n",
            "Epoch: 2/100\n",
            "torch.Size([128, 100, 1])\n",
            "torch.Size([127, 100, 1])\n",
            "Train_Loss: 9.98E-03 Test_Loss: 1.44E-02\n",
            "---------------------------------------------\n",
            "Epoch: 3/100\n",
            "torch.Size([128, 100, 1])\n",
            "torch.Size([127, 100, 1])\n",
            "Train_Loss: 6.52E-03 Test_Loss: 1.58E-02\n",
            "---------------------------------------------\n",
            "Epoch: 4/100\n",
            "torch.Size([128, 100, 1])\n",
            "torch.Size([127, 100, 1])\n",
            "Train_Loss: 6.07E-03 Test_Loss: 2.48E-02\n",
            "---------------------------------------------\n",
            "Epoch: 5/100\n",
            "torch.Size([128, 100, 1])\n",
            "torch.Size([127, 100, 1])\n",
            "Train_Loss: 5.68E-03 Test_Loss: 1.21E-02\n",
            "---------------------------------------------\n",
            "Epoch: 6/100\n",
            "torch.Size([128, 100, 1])\n",
            "torch.Size([127, 100, 1])\n",
            "Train_Loss: 5.62E-03 Test_Loss: 1.19E-02\n",
            "---------------------------------------------\n",
            "Epoch: 7/100\n",
            "torch.Size([128, 100, 1])\n",
            "torch.Size([127, 100, 1])\n",
            "Train_Loss: 5.05E-03 Test_Loss: 1.21E-02\n",
            "---------------------------------------------\n",
            "Epoch: 8/100\n",
            "torch.Size([128, 100, 1])\n",
            "torch.Size([127, 100, 1])\n",
            "Train_Loss: 5.15E-03 Test_Loss: 1.49E-02\n",
            "---------------------------------------------\n",
            "Epoch: 9/100\n",
            "torch.Size([128, 100, 1])\n",
            "torch.Size([127, 100, 1])\n",
            "Train_Loss: 4.52E-03 Test_Loss: 1.79E-02\n",
            "---------------------------------------------\n",
            "Epoch: 10/100\n",
            "torch.Size([128, 100, 1])\n",
            "torch.Size([127, 100, 1])\n",
            "Train_Loss: 4.77E-03 Test_Loss: 1.33E-02\n",
            "---------------------------------------------\n",
            "Epoch: 11/100\n",
            "torch.Size([128, 100, 1])\n",
            "torch.Size([127, 100, 1])\n",
            "Train_Loss: 4.37E-03 Test_Loss: 1.28E-02\n",
            "---------------------------------------------\n",
            "Epoch: 12/100\n",
            "torch.Size([128, 100, 1])\n",
            "torch.Size([127, 100, 1])\n",
            "Train_Loss: 4.18E-03 Test_Loss: 9.72E-03\n",
            "---------------------------------------------\n",
            "Epoch: 13/100\n",
            "torch.Size([128, 100, 1])\n",
            "torch.Size([127, 100, 1])\n",
            "Train_Loss: 4.07E-03 Test_Loss: 8.26E-03\n",
            "---------------------------------------------\n",
            "Epoch: 14/100\n",
            "torch.Size([128, 100, 1])\n",
            "torch.Size([127, 100, 1])\n",
            "Train_Loss: 3.92E-03 Test_Loss: 7.41E-03\n",
            "---------------------------------------------\n",
            "Epoch: 15/100\n",
            "torch.Size([128, 100, 1])\n",
            "torch.Size([127, 100, 1])\n",
            "Train_Loss: 3.93E-03 Test_Loss: 9.65E-03\n",
            "---------------------------------------------\n",
            "Epoch: 16/100\n",
            "torch.Size([128, 100, 1])\n",
            "torch.Size([127, 100, 1])\n",
            "Train_Loss: 3.44E-03 Test_Loss: 6.71E-03\n",
            "---------------------------------------------\n",
            "Epoch: 17/100\n",
            "torch.Size([128, 100, 1])\n",
            "torch.Size([127, 100, 1])\n",
            "Train_Loss: 3.21E-03 Test_Loss: 6.38E-03\n",
            "---------------------------------------------\n",
            "Epoch: 18/100\n",
            "torch.Size([128, 100, 1])\n",
            "torch.Size([127, 100, 1])\n",
            "Train_Loss: 3.20E-03 Test_Loss: 7.01E-03\n",
            "---------------------------------------------\n",
            "Epoch: 19/100\n",
            "torch.Size([128, 100, 1])\n",
            "torch.Size([127, 100, 1])\n",
            "Train_Loss: 3.03E-03 Test_Loss: 1.33E-02\n",
            "---------------------------------------------\n",
            "Epoch: 20/100\n",
            "torch.Size([128, 100, 1])\n",
            "torch.Size([127, 100, 1])\n",
            "Train_Loss: 3.10E-03 Test_Loss: 5.93E-03\n",
            "---------------------------------------------\n",
            "Epoch: 21/100\n",
            "torch.Size([128, 100, 1])\n",
            "torch.Size([127, 100, 1])\n",
            "Train_Loss: 2.91E-03 Test_Loss: 6.36E-03\n",
            "---------------------------------------------\n",
            "Epoch: 22/100\n",
            "torch.Size([128, 100, 1])\n",
            "torch.Size([127, 100, 1])\n",
            "Train_Loss: 2.56E-03 Test_Loss: 6.06E-03\n",
            "---------------------------------------------\n",
            "Epoch: 23/100\n",
            "torch.Size([128, 100, 1])\n",
            "torch.Size([127, 100, 1])\n",
            "Train_Loss: 2.72E-03 Test_Loss: 4.85E-03\n",
            "---------------------------------------------\n",
            "Epoch: 24/100\n",
            "torch.Size([128, 100, 1])\n",
            "torch.Size([127, 100, 1])\n",
            "Train_Loss: 2.40E-03 Test_Loss: 4.65E-03\n",
            "---------------------------------------------\n",
            "Epoch: 25/100\n",
            "torch.Size([128, 100, 1])\n",
            "torch.Size([127, 100, 1])\n",
            "Train_Loss: 2.38E-03 Test_Loss: 5.20E-03\n",
            "---------------------------------------------\n",
            "Epoch: 26/100\n",
            "torch.Size([128, 100, 1])\n",
            "torch.Size([127, 100, 1])\n",
            "Train_Loss: 2.16E-03 Test_Loss: 4.30E-03\n",
            "---------------------------------------------\n",
            "Epoch: 27/100\n",
            "torch.Size([128, 100, 1])\n",
            "torch.Size([127, 100, 1])\n",
            "Train_Loss: 2.15E-03 Test_Loss: 4.92E-03\n",
            "---------------------------------------------\n",
            "Epoch: 28/100\n",
            "torch.Size([128, 100, 1])\n",
            "torch.Size([127, 100, 1])\n",
            "Train_Loss: 2.01E-03 Test_Loss: 3.99E-03\n",
            "---------------------------------------------\n",
            "Epoch: 29/100\n",
            "torch.Size([128, 100, 1])\n",
            "torch.Size([127, 100, 1])\n",
            "Train_Loss: 1.87E-03 Test_Loss: 4.05E-03\n",
            "---------------------------------------------\n",
            "Epoch: 30/100\n",
            "torch.Size([128, 100, 1])\n",
            "torch.Size([127, 100, 1])\n",
            "Train_Loss: 1.80E-03 Test_Loss: 3.66E-03\n",
            "---------------------------------------------\n",
            "Epoch: 31/100\n",
            "torch.Size([128, 100, 1])\n",
            "torch.Size([127, 100, 1])\n",
            "Train_Loss: 1.82E-03 Test_Loss: 3.55E-03\n",
            "---------------------------------------------\n",
            "Epoch: 32/100\n",
            "torch.Size([128, 100, 1])\n",
            "torch.Size([127, 100, 1])\n",
            "Train_Loss: 1.73E-03 Test_Loss: 6.40E-03\n",
            "---------------------------------------------\n",
            "Epoch: 33/100\n",
            "torch.Size([128, 100, 1])\n",
            "torch.Size([127, 100, 1])\n",
            "Train_Loss: 1.95E-03 Test_Loss: 3.38E-03\n",
            "---------------------------------------------\n",
            "Epoch: 34/100\n",
            "torch.Size([128, 100, 1])\n",
            "torch.Size([127, 100, 1])\n",
            "Train_Loss: 1.68E-03 Test_Loss: 3.89E-03\n",
            "---------------------------------------------\n",
            "Epoch: 35/100\n",
            "torch.Size([128, 100, 1])\n",
            "torch.Size([127, 100, 1])\n",
            "Train_Loss: 1.70E-03 Test_Loss: 3.52E-03\n",
            "---------------------------------------------\n",
            "Epoch: 36/100\n",
            "torch.Size([128, 100, 1])\n",
            "torch.Size([127, 100, 1])\n",
            "Train_Loss: 1.55E-03 Test_Loss: 3.84E-03\n",
            "---------------------------------------------\n",
            "Epoch: 37/100\n",
            "torch.Size([128, 100, 1])\n",
            "torch.Size([127, 100, 1])\n",
            "Train_Loss: 1.62E-03 Test_Loss: 3.57E-03\n",
            "---------------------------------------------\n",
            "Epoch: 38/100\n",
            "torch.Size([128, 100, 1])\n",
            "torch.Size([127, 100, 1])\n",
            "Train_Loss: 1.78E-03 Test_Loss: 3.51E-03\n",
            "---------------------------------------------\n",
            "Epoch: 39/100\n",
            "torch.Size([128, 100, 1])\n",
            "torch.Size([127, 100, 1])\n",
            "Train_Loss: 1.87E-03 Test_Loss: 3.84E-03\n",
            "---------------------------------------------\n",
            "Epoch: 40/100\n",
            "torch.Size([128, 100, 1])\n",
            "torch.Size([127, 100, 1])\n",
            "Train_Loss: 1.68E-03 Test_Loss: 4.84E-03\n",
            "---------------------------------------------\n",
            "Epoch: 41/100\n",
            "torch.Size([128, 100, 1])\n",
            "torch.Size([127, 100, 1])\n",
            "Train_Loss: 1.54E-03 Test_Loss: 3.40E-03\n",
            "---------------------------------------------\n",
            "Epoch: 42/100\n",
            "torch.Size([128, 100, 1])\n",
            "torch.Size([127, 100, 1])\n",
            "Train_Loss: 1.56E-03 Test_Loss: 3.47E-03\n",
            "---------------------------------------------\n",
            "Epoch: 43/100\n",
            "torch.Size([128, 100, 1])\n",
            "torch.Size([127, 100, 1])\n",
            "Train_Loss: 1.66E-03 Test_Loss: 3.31E-03\n",
            "---------------------------------------------\n",
            "Epoch: 44/100\n",
            "torch.Size([128, 100, 1])\n",
            "torch.Size([127, 100, 1])\n",
            "Train_Loss: 1.58E-03 Test_Loss: 3.71E-03\n",
            "---------------------------------------------\n",
            "Epoch: 45/100\n",
            "torch.Size([128, 100, 1])\n",
            "torch.Size([127, 100, 1])\n",
            "Train_Loss: 1.55E-03 Test_Loss: 3.85E-03\n",
            "---------------------------------------------\n",
            "Epoch: 46/100\n",
            "torch.Size([128, 100, 1])\n",
            "torch.Size([127, 100, 1])\n",
            "Train_Loss: 1.58E-03 Test_Loss: 3.46E-03\n",
            "---------------------------------------------\n",
            "Epoch: 47/100\n",
            "torch.Size([128, 100, 1])\n",
            "torch.Size([127, 100, 1])\n",
            "Train_Loss: 2.00E-03 Test_Loss: 4.08E-03\n",
            "---------------------------------------------\n",
            "Epoch: 48/100\n",
            "torch.Size([128, 100, 1])\n",
            "torch.Size([127, 100, 1])\n",
            "Train_Loss: 1.56E-03 Test_Loss: 4.68E-03\n",
            "---------------------------------------------\n",
            "Epoch: 49/100\n",
            "torch.Size([128, 100, 1])\n",
            "torch.Size([127, 100, 1])\n",
            "Train_Loss: 1.56E-03 Test_Loss: 5.30E-03\n",
            "---------------------------------------------\n",
            "Epoch: 50/100\n",
            "torch.Size([128, 100, 1])\n",
            "torch.Size([127, 100, 1])\n",
            "Train_Loss: 1.58E-03 Test_Loss: 3.33E-03\n",
            "---------------------------------------------\n",
            "Epoch: 51/100\n",
            "torch.Size([128, 100, 1])\n",
            "torch.Size([127, 100, 1])\n",
            "Train_Loss: 1.51E-03 Test_Loss: 3.63E-03\n",
            "---------------------------------------------\n",
            "Epoch: 52/100\n",
            "torch.Size([128, 100, 1])\n",
            "torch.Size([127, 100, 1])\n",
            "Train_Loss: 1.45E-03 Test_Loss: 3.30E-03\n",
            "---------------------------------------------\n",
            "Epoch: 53/100\n",
            "torch.Size([128, 100, 1])\n",
            "torch.Size([127, 100, 1])\n",
            "Train_Loss: 1.43E-03 Test_Loss: 3.43E-03\n",
            "---------------------------------------------\n",
            "Epoch: 54/100\n",
            "torch.Size([128, 100, 1])\n",
            "torch.Size([127, 100, 1])\n",
            "Train_Loss: 1.52E-03 Test_Loss: 4.72E-03\n",
            "---------------------------------------------\n",
            "Epoch: 55/100\n",
            "torch.Size([128, 100, 1])\n",
            "torch.Size([127, 100, 1])\n",
            "Train_Loss: 1.55E-03 Test_Loss: 4.55E-03\n",
            "---------------------------------------------\n",
            "Epoch: 56/100\n",
            "torch.Size([128, 100, 1])\n",
            "torch.Size([127, 100, 1])\n",
            "Train_Loss: 1.66E-03 Test_Loss: 3.77E-03\n",
            "---------------------------------------------\n",
            "Epoch: 57/100\n",
            "torch.Size([128, 100, 1])\n",
            "torch.Size([127, 100, 1])\n",
            "Train_Loss: 1.57E-03 Test_Loss: 4.14E-03\n",
            "---------------------------------------------\n",
            "Epoch: 58/100\n",
            "torch.Size([128, 100, 1])\n",
            "torch.Size([127, 100, 1])\n",
            "Train_Loss: 1.63E-03 Test_Loss: 5.32E-03\n",
            "---------------------------------------------\n",
            "Epoch: 59/100\n",
            "torch.Size([128, 100, 1])\n",
            "torch.Size([127, 100, 1])\n",
            "Train_Loss: 1.59E-03 Test_Loss: 3.55E-03\n",
            "---------------------------------------------\n",
            "Epoch: 60/100\n",
            "torch.Size([128, 100, 1])\n",
            "torch.Size([127, 100, 1])\n",
            "Train_Loss: 1.49E-03 Test_Loss: 6.43E-03\n",
            "---------------------------------------------\n",
            "Epoch: 61/100\n",
            "torch.Size([128, 100, 1])\n",
            "torch.Size([127, 100, 1])\n",
            "Train_Loss: 1.44E-03 Test_Loss: 3.34E-03\n",
            "---------------------------------------------\n",
            "Epoch: 62/100\n",
            "torch.Size([128, 100, 1])\n",
            "torch.Size([127, 100, 1])\n",
            "Train_Loss: 1.44E-03 Test_Loss: 3.64E-03\n",
            "---------------------------------------------\n",
            "Epoch: 63/100\n",
            "torch.Size([128, 100, 1])\n",
            "torch.Size([127, 100, 1])\n",
            "Train_Loss: 1.50E-03 Test_Loss: 4.67E-03\n",
            "---------------------------------------------\n",
            "Epoch: 64/100\n",
            "torch.Size([128, 100, 1])\n",
            "torch.Size([127, 100, 1])\n",
            "Train_Loss: 1.57E-03 Test_Loss: 4.70E-03\n",
            "---------------------------------------------\n",
            "Epoch: 65/100\n",
            "torch.Size([128, 100, 1])\n",
            "torch.Size([127, 100, 1])\n",
            "Train_Loss: 1.53E-03 Test_Loss: 3.35E-03\n",
            "---------------------------------------------\n",
            "Epoch: 66/100\n",
            "torch.Size([128, 100, 1])\n",
            "torch.Size([127, 100, 1])\n",
            "Train_Loss: 1.54E-03 Test_Loss: 3.36E-03\n",
            "---------------------------------------------\n",
            "Epoch: 67/100\n",
            "torch.Size([128, 100, 1])\n",
            "torch.Size([127, 100, 1])\n",
            "Train_Loss: 1.57E-03 Test_Loss: 3.60E-03\n",
            "---------------------------------------------\n",
            "Epoch: 68/100\n",
            "torch.Size([128, 100, 1])\n",
            "torch.Size([127, 100, 1])\n",
            "Train_Loss: 1.50E-03 Test_Loss: 3.47E-03\n",
            "---------------------------------------------\n",
            "Epoch: 69/100\n",
            "torch.Size([128, 100, 1])\n",
            "torch.Size([127, 100, 1])\n",
            "Train_Loss: 1.49E-03 Test_Loss: 3.57E-03\n",
            "---------------------------------------------\n",
            "Epoch: 70/100\n",
            "torch.Size([128, 100, 1])\n",
            "torch.Size([127, 100, 1])\n",
            "Train_Loss: 1.42E-03 Test_Loss: 3.47E-03\n",
            "---------------------------------------------\n",
            "Epoch: 71/100\n",
            "torch.Size([128, 100, 1])\n",
            "torch.Size([127, 100, 1])\n",
            "Train_Loss: 1.55E-03 Test_Loss: 3.32E-03\n",
            "---------------------------------------------\n",
            "Epoch: 72/100\n",
            "torch.Size([128, 100, 1])\n",
            "torch.Size([127, 100, 1])\n",
            "Train_Loss: 1.53E-03 Test_Loss: 3.46E-03\n",
            "---------------------------------------------\n",
            "Epoch: 73/100\n",
            "torch.Size([128, 100, 1])\n",
            "torch.Size([127, 100, 1])\n",
            "Train_Loss: 1.54E-03 Test_Loss: 4.09E-03\n",
            "---------------------------------------------\n",
            "Epoch: 74/100\n",
            "torch.Size([128, 100, 1])\n",
            "torch.Size([127, 100, 1])\n",
            "Train_Loss: 1.50E-03 Test_Loss: 3.49E-03\n",
            "---------------------------------------------\n",
            "Epoch: 75/100\n",
            "torch.Size([128, 100, 1])\n",
            "torch.Size([127, 100, 1])\n",
            "Train_Loss: 1.46E-03 Test_Loss: 4.34E-03\n",
            "---------------------------------------------\n",
            "Epoch: 76/100\n",
            "torch.Size([128, 100, 1])\n",
            "torch.Size([127, 100, 1])\n",
            "Train_Loss: 1.45E-03 Test_Loss: 5.79E-03\n",
            "---------------------------------------------\n",
            "Epoch: 77/100\n",
            "torch.Size([128, 100, 1])\n",
            "torch.Size([127, 100, 1])\n",
            "Train_Loss: 1.58E-03 Test_Loss: 3.43E-03\n",
            "---------------------------------------------\n",
            "Epoch: 78/100\n",
            "torch.Size([128, 100, 1])\n",
            "torch.Size([127, 100, 1])\n",
            "Train_Loss: 1.56E-03 Test_Loss: 3.37E-03\n",
            "---------------------------------------------\n",
            "Epoch: 79/100\n",
            "torch.Size([128, 100, 1])\n",
            "torch.Size([127, 100, 1])\n",
            "Train_Loss: 1.63E-03 Test_Loss: 9.78E-03\n",
            "---------------------------------------------\n",
            "Epoch: 80/100\n",
            "torch.Size([128, 100, 1])\n",
            "torch.Size([127, 100, 1])\n",
            "Train_Loss: 1.74E-03 Test_Loss: 4.58E-03\n",
            "---------------------------------------------\n",
            "Epoch: 81/100\n",
            "torch.Size([128, 100, 1])\n",
            "torch.Size([127, 100, 1])\n",
            "Train_Loss: 1.45E-03 Test_Loss: 3.67E-03\n",
            "---------------------------------------------\n",
            "Epoch: 82/100\n",
            "torch.Size([128, 100, 1])\n",
            "torch.Size([127, 100, 1])\n",
            "Train_Loss: 1.44E-03 Test_Loss: 3.32E-03\n",
            "---------------------------------------------\n",
            "Epoch: 83/100\n",
            "torch.Size([128, 100, 1])\n",
            "torch.Size([127, 100, 1])\n",
            "Train_Loss: 1.48E-03 Test_Loss: 5.37E-03\n",
            "---------------------------------------------\n",
            "Epoch: 84/100\n",
            "torch.Size([128, 100, 1])\n",
            "torch.Size([127, 100, 1])\n",
            "Train_Loss: 2.04E-03 Test_Loss: 3.34E-03\n",
            "---------------------------------------------\n",
            "Epoch: 85/100\n",
            "torch.Size([128, 100, 1])\n",
            "torch.Size([127, 100, 1])\n",
            "Train_Loss: 1.57E-03 Test_Loss: 3.63E-03\n",
            "---------------------------------------------\n",
            "Epoch: 86/100\n",
            "torch.Size([128, 100, 1])\n",
            "torch.Size([127, 100, 1])\n",
            "Train_Loss: 1.59E-03 Test_Loss: 3.65E-03\n",
            "---------------------------------------------\n",
            "Epoch: 87/100\n",
            "torch.Size([128, 100, 1])\n",
            "torch.Size([127, 100, 1])\n",
            "Train_Loss: 1.63E-03 Test_Loss: 4.81E-03\n",
            "---------------------------------------------\n",
            "Epoch: 88/100\n",
            "torch.Size([128, 100, 1])\n",
            "torch.Size([127, 100, 1])\n",
            "Train_Loss: 1.60E-03 Test_Loss: 3.39E-03\n",
            "---------------------------------------------\n",
            "Epoch: 89/100\n",
            "torch.Size([128, 100, 1])\n",
            "torch.Size([127, 100, 1])\n",
            "Train_Loss: 1.48E-03 Test_Loss: 3.66E-03\n",
            "---------------------------------------------\n",
            "Epoch: 90/100\n",
            "torch.Size([128, 100, 1])\n",
            "torch.Size([127, 100, 1])\n",
            "Train_Loss: 1.53E-03 Test_Loss: 3.83E-03\n",
            "---------------------------------------------\n",
            "Epoch: 91/100\n",
            "torch.Size([128, 100, 1])\n",
            "torch.Size([127, 100, 1])\n",
            "Train_Loss: 1.54E-03 Test_Loss: 3.43E-03\n",
            "---------------------------------------------\n",
            "Epoch: 92/100\n",
            "torch.Size([128, 100, 1])\n",
            "torch.Size([127, 100, 1])\n",
            "Train_Loss: 1.50E-03 Test_Loss: 3.42E-03\n",
            "---------------------------------------------\n",
            "Epoch: 93/100\n",
            "torch.Size([128, 100, 1])\n",
            "torch.Size([127, 100, 1])\n",
            "Train_Loss: 1.55E-03 Test_Loss: 4.56E-03\n",
            "---------------------------------------------\n",
            "Epoch: 94/100\n",
            "torch.Size([128, 100, 1])\n",
            "torch.Size([127, 100, 1])\n",
            "Train_Loss: 1.53E-03 Test_Loss: 3.46E-03\n",
            "---------------------------------------------\n",
            "Epoch: 95/100\n",
            "torch.Size([128, 100, 1])\n",
            "torch.Size([127, 100, 1])\n",
            "Train_Loss: 1.47E-03 Test_Loss: 3.94E-03\n",
            "---------------------------------------------\n",
            "Epoch: 96/100\n",
            "torch.Size([128, 100, 1])\n",
            "torch.Size([127, 100, 1])\n",
            "Train_Loss: 1.53E-03 Test_Loss: 3.47E-03\n",
            "---------------------------------------------\n",
            "Epoch: 97/100\n",
            "torch.Size([128, 100, 1])\n",
            "torch.Size([127, 100, 1])\n",
            "Train_Loss: 1.54E-03 Test_Loss: 3.34E-03\n",
            "---------------------------------------------\n",
            "Epoch: 98/100\n",
            "torch.Size([128, 100, 1])\n",
            "torch.Size([127, 100, 1])\n",
            "Train_Loss: 1.54E-03 Test_Loss: 3.55E-03\n",
            "---------------------------------------------\n",
            "Epoch: 99/100\n",
            "torch.Size([128, 100, 1])\n",
            "torch.Size([127, 100, 1])\n",
            "Train_Loss: 1.57E-03 Test_Loss: 5.48E-03\n",
            "---------------------------------------------\n",
            "Epoch: 100/100\n",
            "torch.Size([128, 100, 1])\n",
            "torch.Size([127, 100, 1])\n",
            "Train_Loss: 1.62E-03 Test_Loss: 3.67E-03\n"
          ]
        }
      ]
    },
    {
      "cell_type": "code",
      "source": [
        "# 損失\n",
        "fig=plt.figure(figsize=(12,4))\n",
        "plt.title('Train and Test Loss')\n",
        "plt.xlabel('Epoch')\n",
        "plt.ylabel('Loss')\n",
        "plt.plot(range(1, epoch+1), train_loss_list, color='blue',\n",
        "         linestyle='-', label='Train_Loss')\n",
        "plt.plot(range(1, epoch+1), test_loss_list, color='red',\n",
        "         linestyle='--', label='Test_Loss')\n",
        "plt.legend()  # 凡例\n",
        "plt.grid(True)\n",
        "plt.show()  # 表示"
      ],
      "metadata": {
        "colab": {
          "base_uri": "https://localhost:8080/"
        },
        "id": "0_-hgSNKKmXE",
        "outputId": "fa20a2c9-a20b-4f18-c01b-af21e2060779"
      },
      "execution_count": null,
      "outputs": [
        {
          "output_type": "display_data",
          "data": {
            "text/plain": [
              "<Figure size 864x288 with 1 Axes>"
            ],
            "image/png": "[encoded data removed]"
          },
          "metadata": {
            "needs_background": "light"
          }
        }
      ]
    },
    {
      "cell_type": "code",
      "source": [
        "# ニューラルネットワークを評価モードに設定\n",
        "net.eval()\n",
        "# 推定時の計算で自動微分機能をオフにする\n",
        "with torch.no_grad():\n",
        "    # 初期化\n",
        "    pred_ma = []\n",
        "    true_ma = []\n",
        "    for data, label in test_batch:\n",
        "        # GPUにTensorを転送\n",
        "        data = data.to(device)\n",
        "        label = label.to(device)\n",
        "        # データを入力して予測値を計算（順伝播）\n",
        "        y_pred = net(data)\n",
        "        pred_ma.append(y_pred.view(-1).tolist())  # Tensorを1次元listに変換\n",
        "        true_ma.append(label.view(-1).tolist())"
      ],
      "metadata": {
        "id": "9By8PuOcKrb3"
      },
      "execution_count": null,
      "outputs": []
    },
    {
      "cell_type": "code",
      "source": [
        "# Tensorを数値データを取り出す\n",
        "pred_ma = [elem for lst in pred_ma for elem in lst]  # listを1次元配列に\n",
        "true_ma = [elem for lst in true_ma for elem in lst]\n",
        "\n",
        "# 標準化を解除して元の株価に変換\n",
        "pred_ma = scaler.inverse_transform(pred_ma)\n",
        "true_ma = scaler.inverse_transform(true_ma)"
      ],
      "metadata": {
        "id": "fL23n2K1KrIp"
      },
      "execution_count": null,
      "outputs": []
    },
    {
      "cell_type": "markdown",
      "source": [
        "# モデルの評価と比較"
      ],
      "metadata": {
        "id": "-q3PXhuBR39_"
      }
    },
    {
      "cell_type": "code",
      "source": [
        "# 平均絶対誤差を計算\n",
        "mae = mean_absolute_error(true_ma, pred_ma)\n",
        "print(\"MAE: {:.3f}\".format(mae))"
      ],
      "metadata": {
        "id": "092_YcYQKueP",
        "colab": {
          "base_uri": "https://localhost:8080/"
        },
        "outputId": "d4e16ad0-7aea-471c-9450-57f4ae4d9f98"
      },
      "execution_count": null,
      "outputs": [
        {
          "output_type": "stream",
          "name": "stdout",
          "text": [
            "MAE: 317.977\n"
          ]
        }
      ]
    },
    {
      "cell_type": "code",
      "source": [
        "# 終値と株価を図示\n",
        "fig=plt.figure(figsize=(12,4))\n",
        "date = df['Date'][-1*test_len:]  # テストデータの日付\n",
        "test_close = df['Close'][-1*test_len:].values.reshape(-1)  # テストデータの終値\n",
        "plt.figure()\n",
        "plt.title('Prediction')\n",
        "plt.xlabel('Date')\n",
        "plt.ylabel('Stock Price')\n",
        "\n",
        "plt.plot(date, true_ma, color='dodgerblue',linestyle='--', label='true_Price')\n",
        "plt.plot(date, pred_ma, color='red', label='predicted_Price')\n",
        "plt.legend()  # 凡例\n",
        "plt.grid(True)\n",
        "# plt.xticks(rotation=30)\n",
        "plt.show()"
      ],
      "metadata": {
        "id": "0t8DRMZ3Kv-5",
        "colab": {
          "base_uri": "https://localhost:8080/",
          "height": 312
        },
        "outputId": "3481ed50-bca3-43a5-90a1-e57fd6646175"
      },
      "execution_count": null,
      "outputs": [
        {
          "output_type": "display_data",
          "data": {
            "text/plain": [
              "<Figure size 864x288 with 0 Axes>"
            ]
          },
          "metadata": {}
        },
        {
          "output_type": "display_data",
          "data": {
            "text/plain": [
              "<Figure size 432x288 with 1 Axes>"
            ],
            "image/png": "[encoded data removed]"
          },
          "metadata": {
            "needs_background": "light"
          }
        }
      ]
    },
    {
      "cell_type": "markdown",
      "source": [
        "# 予測"
      ],
      "metadata": {
        "id": "3cyerHsOAFiL"
      }
    },
    {
      "cell_type": "code",
      "source": [
        "y=torch.FloatTensor(ma_std)\n",
        "y=y.view(-1)\n",
        "y=y.to(device)"
      ],
      "metadata": {
        "id": "8hQAyZUSAPyT"
      },
      "execution_count": null,
      "outputs": []
    },
    {
      "cell_type": "code",
      "source": [
        "net.eval()\n",
        "# 評価時の計算で自動微分機能をオフにする\n",
        "with torch.no_grad():\n",
        "  day = 30\n",
        "  dfn = y[-n:]\n",
        "  for i in range(day):\n",
        "    dfna = dfn[-n:]\n",
        "    # print(dfna)\n",
        "\n",
        "    dfna = dfna.view(1, -1, 1)\n",
        "    # print(dfna.shape)\n",
        "    dfna = dfna.to(device)\n",
        "    pred = net(dfna)\n",
        "    pred = pred.reshape(1, -1, 1)\n",
        "    dfn = torch.cat((dfn.view(1, -1, 1), pred), dim=1)\n",
        "    dfn = dfn.squeeze()\n",
        "    # print(dfn.shape)"
      ],
      "metadata": {
        "id": "8y9O3De5B9Sy"
      },
      "execution_count": null,
      "outputs": []
    },
    {
      "cell_type": "code",
      "source": [
        "dfn = dfn.squeeze()"
      ],
      "metadata": {
        "id": "oBSgkc8WHk0r"
      },
      "execution_count": null,
      "outputs": []
    },
    {
      "cell_type": "code",
      "source": [
        "y1=y.tolist()\n",
        "dfn11=dfn.tolist()"
      ],
      "metadata": {
        "id": "6oWWHesGH8Za"
      },
      "execution_count": null,
      "outputs": []
    },
    {
      "cell_type": "code",
      "source": [
        "dfn1=dfn11[n:]"
      ],
      "metadata": {
        "id": "YJhmjar8g9Rp"
      },
      "execution_count": null,
      "outputs": []
    },
    {
      "cell_type": "code",
      "source": [
        "len(dfn1)"
      ],
      "metadata": {
        "colab": {
          "base_uri": "https://localhost:8080/"
        },
        "id": "FkmL_blghIo1",
        "outputId": "d4fdbfea-bd94-4754-bfa2-9816689f7713"
      },
      "execution_count": null,
      "outputs": [
        {
          "output_type": "execute_result",
          "data": {
            "text/plain": [
              "30"
            ]
          },
          "metadata": {},
          "execution_count": 560
        }
      ]
    },
    {
      "cell_type": "code",
      "source": [
        "# 標準化を解除して元の株価に変換\n",
        "true_dfn = scaler.inverse_transform(dfn1)"
      ],
      "metadata": {
        "id": "vkYbP3CMIvF2"
      },
      "execution_count": null,
      "outputs": []
    },
    {
      "cell_type": "code",
      "source": [
        "# 直近のデータの最後の日付\n",
        "df1= df.set_index(\"Date\")\n",
        "real_last_date_timestamp=df1.index[-1]\n",
        "\n",
        "# 未来の最初の日付\n",
        "future_first_date_timestamp=real_last_date_timestamp+offsets.Day()\n",
        "\n",
        "# pandasのseriesに変換\n",
        "future_first_date_series_datetime=pd.Series(future_first_date_timestamp)\n",
        "\n",
        "# object型に変換\n",
        "future_first_date_object=pd.Series(future_first_date_timestamp).astype(str)\n",
        "\n",
        "# str型に変換\n",
        "future_first_date_str=future_first_date_object[0]\n",
        "\n",
        "future_first_date_str"
      ],
      "metadata": {
        "colab": {
          "base_uri": "https://localhost:8080/",
          "height": 35
        },
        "id": "YmHG1d-NMSos",
        "outputId": "3f913344-54b8-450d-d340-d656a5d0b969"
      },
      "execution_count": null,
      "outputs": [
        {
          "output_type": "execute_result",
          "data": {
            "text/plain": [
              "'2022-12-31'"
            ],
            "application/vnd.google.colaboratory.intrinsic+json": {
              "type": "string"
            }
          },
          "metadata": {},
          "execution_count": 562
        }
      ]
    },
    {
      "cell_type": "code",
      "source": [
        "# 未来の最後の日付の翌日の日付(Timestamp型)\n",
        "second_argument_timestamp=future_first_date_timestamp+offsets.Day(day)\n",
        "\n",
        "# 未来の最後の日付の翌日の日付(Seried datetime型)\n",
        "second_argument_series_datetime=pd.Series(second_argument_timestamp)\n",
        "\n",
        "# object型に変換\n",
        "second_argument_object=pd.Series(second_argument_timestamp).astype(str)\n",
        "\n",
        "# str型に変換\n",
        "second_argument_str=second_argument_object[0]\n",
        "second_argument_str"
      ],
      "metadata": {
        "colab": {
          "base_uri": "https://localhost:8080/",
          "height": 35
        },
        "id": "xGkw10hENInw",
        "outputId": "61870523-0fa1-4bab-b56d-07c136da09f7"
      },
      "execution_count": null,
      "outputs": [
        {
          "output_type": "execute_result",
          "data": {
            "text/plain": [
              "'2023-01-30'"
            ],
            "application/vnd.google.colaboratory.intrinsic+json": {
              "type": "string"
            }
          },
          "metadata": {},
          "execution_count": 563
        }
      ]
    },
    {
      "cell_type": "code",
      "source": [
        "# 直近のデータを学習用に使う場合(test_size=30)\n",
        "future_period=np.arange(future_first_date_str,second_argument_str,dtype=\"datetime64\")"
      ],
      "metadata": {
        "id": "ilBDQrTgO0Ga"
      },
      "execution_count": null,
      "outputs": []
    },
    {
      "cell_type": "code",
      "source": [
        "len(future_period)"
      ],
      "metadata": {
        "colab": {
          "base_uri": "https://localhost:8080/"
        },
        "id": "U0xwn9SgPpEs",
        "outputId": "a603e6b9-12df-435c-e16a-b4e574cce83e"
      },
      "execution_count": null,
      "outputs": [
        {
          "output_type": "execute_result",
          "data": {
            "text/plain": [
              "30"
            ]
          },
          "metadata": {},
          "execution_count": 565
        }
      ]
    },
    {
      "cell_type": "code",
      "source": [
        "# 直近のデータの最後の日付から3ヶ月ほど遡った日付(Timestamp)\n",
        "plot_start_date_timestamp=real_last_date_timestamp+offsets.Day(-day*3)"
      ],
      "metadata": {
        "id": "oFIQJMdqPx48"
      },
      "execution_count": null,
      "outputs": []
    },
    {
      "cell_type": "code",
      "source": [
        "# 作図\n",
        "fig=plt.figure(figsize=(12,4))\n",
        "plt.title(\"Stock Price Prediction\")\n",
        "plt.xlabel(\"Date\")\n",
        "plt.ylabel(\"Price\")\n",
        "plt.grid(True)\n",
        "\n",
        "plt.plot(df1[\"Close\"][plot_start_date_timestamp:],label=\"Close\")\n",
        "\n",
        "plt.plot(future_period,true_dfn)\n",
        "plt.show"
      ],
      "metadata": {
        "colab": {
          "base_uri": "https://localhost:8080/",
          "height": 312
        },
        "id": "EEb1NEhJQOrC",
        "outputId": "c712e551-df16-43cf-9a9a-9050ca683f8e"
      },
      "execution_count": null,
      "outputs": [
        {
          "output_type": "execute_result",
          "data": {
            "text/plain": [
              "<function matplotlib.pyplot.show(*args, **kw)>"
            ]
          },
          "metadata": {},
          "execution_count": 567
        },
        {
          "output_type": "display_data",
          "data": {
            "text/plain": [
              "<Figure size 864x288 with 1 Axes>"
            ],
            "image/png": "[encoded data removed]"
          },
          "metadata": {
            "needs_background": "light"
          }
        }
      ]
    }
  ]
}